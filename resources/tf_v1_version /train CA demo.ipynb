{
 "cells": [
  {
   "cell_type": "markdown",
   "metadata": {},
   "source": [
    "## Import requirements"
   ]
  },
  {
   "cell_type": "code",
   "execution_count": null,
   "metadata": {},
   "outputs": [],
   "source": [
    "import numpy as np\n",
    "import matplotlib.pyplot as plt\n",
    "\n",
    "import tensorflow as tf\n",
    "\n",
    "%matplotlib inline\n",
    "plt.rcParams['figure.figsize'] = (10.0, 8.0) # set default size of plots\n",
    "plt.rcParams['image.interpolation'] = 'nearest'\n",
    "plt.rcParams['image.cmap'] = 'gray'\n",
    "\n",
    "import os\n",
    "import glob\n",
    "import pickle\n",
    "\n",
    "import sys\n",
    "sys.path.insert(0, '..')\n",
    "from ca_funcs import *\n",
    "from utils import *\n",
    "\n",
    "\n",
    "%load_ext autoreload\n",
    "%autoreload 2"
   ]
  },
  {
   "cell_type": "markdown",
   "metadata": {},
   "source": [
    "# Create a new model"
   ]
  },
  {
   "cell_type": "code",
   "execution_count": null,
   "metadata": {},
   "outputs": [],
   "source": [
    "from train_ca import *\n",
    "\n",
    "try:\n",
    "    tf.reset_default_graph()\n",
    "    sess.close()\n",
    "except:\n",
    "    pass\n",
    "sess = tf.InteractiveSession()\n",
    "\n",
    "wspan, hspan = 10, 10\n",
    "layer_dims = [100,100,100,100,100]\n",
    "\n",
    "test_model = ConvNet(sess, input_dim=(wspan,hspan), layer_dims=layer_dims, weight_scale=1e0)"
   ]
  },
  {
   "cell_type": "code",
   "execution_count": null,
   "metadata": {},
   "outputs": [],
   "source": [
    "# Run untrained model on test data\n",
    "X = test_model.X\n",
    "ca_model = test_model.ca_cnn(X)\n",
    "out = sess.run(ca_model, feed_dict={X: make_glider((10,10))})\n",
    "\n",
    "plt.imshow(out)"
   ]
  },
  {
   "cell_type": "markdown",
   "metadata": {},
   "source": [
    "# Train a new model"
   ]
  },
  {
   "cell_type": "code",
   "execution_count": null,
   "metadata": {},
   "outputs": [],
   "source": [
    "from train_ca import *\n",
    "\n",
    "try:\n",
    "    tf.reset_default_graph()\n",
    "    sess.close()\n",
    "except:\n",
    "    pass\n",
    "sess = tf.InteractiveSession()"
   ]
  },
  {
   "cell_type": "code",
   "execution_count": null,
   "metadata": {},
   "outputs": [],
   "source": [
    "## Make training data\n",
    "batch_size, wspan, hspan = (100,10,10)\n",
    "\n",
    "X_train = np.random.choice([0,1], (batch_size, wspan, hspan), p=[.5,.5])\n",
    "gol = make_game_of_life()\n",
    "y_train_tf = gol(conv_cast(X_train))\n",
    "y_train = y_train_tf.eval()\n",
    "\n",
    "\n",
    "\n",
    "## Define model parameters\n",
    "layer_dims = [100, 100, 100, 100, 100, 100, 100, 100, 100, 100, 100, 100]\n",
    "learning_rate = 0.0001\n",
    "weight_scale = 1e0\n",
    "num_batches = 1\n",
    "training_epochs = 100\n",
    "batch_size = 10\n",
    "num_batches = 1\n",
    "training_epochs = 1500\n",
    "display_step = int(training_epochs/10)\n",
    "\n",
    "## Define model\n",
    "test_model = ConvNet(sess, input_dim=(wspan, hspan), layer_dims=layer_dims, weight_scale=weight_scale)\n",
    "X, y = test_model.X, test_model.y\n",
    "ca_model = test_model.ca_cnn(X)\n",
    "\n",
    "## Define loss and optimizer\n",
    "loss = tf.reduce_sum(tf.nn.l2_loss(ca_model - y))\n",
    "optimizer = tf.train.AdamOptimizer(learning_rate=learning_rate)\n",
    "train_op = optimizer.minimize(loss)\n",
    "\n",
    "\n",
    "## Re-initialize everything, since the optimizer needs to be initialized\n",
    "init = tf.global_variables_initializer()\n",
    "sess.run(init)\n",
    "\n",
    "## Now perform training\n",
    "all_losses = list()\n",
    "for epoch in range(training_epochs):\n",
    "\n",
    "    avg_cost = 0.0\n",
    "    avg_cost_rounded = 0.0\n",
    "    \n",
    "    for i in range(num_batches):\n",
    "        batch_indices = np.random.choice(range(X_train.shape[0]), batch_size)\n",
    "\n",
    "        for batch_ind in batch_indices:\n",
    "            X_batch, y_batch = X_train[batch_ind], y_train[batch_ind]\n",
    "            _, cost = sess.run([train_op, loss], feed_dict={X: X_batch, y: y_batch})\n",
    "\n",
    "            avg_cost += cost/(num_batches*batch_size)\n",
    "    all_losses.append(avg_cost)  \n",
    "    if epoch % display_step == 0:\n",
    "        print(\"Epoch:\", '%04d' % (epoch+1), \"cost={:.9f}\".format(avg_cost))"
   ]
  },
  {
   "cell_type": "code",
   "execution_count": null,
   "metadata": {},
   "outputs": [],
   "source": [
    "X_test = make_glider(10)\n",
    "\n",
    "gol = make_game_of_life()\n",
    "y_test_tf = gol(conv_cast(X_test[np.newaxis,...]))\n",
    "y_test = np.squeeze(y_test_tf.eval())\n",
    "\n",
    "y_pred_test = sess.run(ca_model, feed_dict={X: X_test})\n",
    "\n",
    "plt.figure(figsize=(12,4))\n",
    "plt.subplot(1,3,1)\n",
    "plt.imshow(X_test)\n",
    "plt.axis('off')\n",
    "plt.title(\"Input\")\n",
    "\n",
    "\n",
    "plt.subplot(1,3,2)\n",
    "plt.imshow(y_test)\n",
    "plt.axis('off')\n",
    "plt.title(\"Expected Output\")\n",
    "\n",
    "plt.subplot(1,3,3)\n",
    "plt.imshow(y_pred_test)\n",
    "plt.axis('off')\n",
    "plt.title(\"Observed Output\")\n"
   ]
  },
  {
   "cell_type": "code",
   "execution_count": null,
   "metadata": {},
   "outputs": [],
   "source": [
    "## Save the model\n",
    "saver = tf.train.Saver(max_to_keep=None)\n",
    "save_str = 'convca/resources/test_model.ckpt'\n",
    "saver.save(sess, save_str)\n",
    "print(save_str)"
   ]
  },
  {
   "cell_type": "markdown",
   "metadata": {},
   "source": [
    "# Loading a saved model"
   ]
  },
  {
   "cell_type": "code",
   "execution_count": null,
   "metadata": {},
   "outputs": [],
   "source": [
    "from train_ca import *\n",
    "\n",
    "try:\n",
    "    tf.reset_default_graph()\n",
    "    sess.close()\n",
    "except:\n",
    "    pass\n",
    "sess = tf.InteractiveSession()"
   ]
  },
  {
   "cell_type": "code",
   "execution_count": null,
   "metadata": {},
   "outputs": [],
   "source": [
    "wspan, hspan = 10, 10\n",
    "model_str = '../resources/test_model.ckpt'\n",
    "\n",
    "\n",
    "## Define model\n",
    "test_model = ConvNet(sess, ckpt_path=model_str, input_dim=(wspan,hspan))\n",
    "X, y = test_model.X, test_model.y\n",
    "ca_model = test_model.ca_cnn(X)"
   ]
  },
  {
   "cell_type": "code",
   "execution_count": null,
   "metadata": {},
   "outputs": [],
   "source": [
    "X_test = make_glider(10)\n",
    "\n",
    "gol = make_game_of_life()\n",
    "y_test_tf = gol(conv_cast(X_test[np.newaxis,...]))\n",
    "y_test = np.squeeze(y_test_tf.eval())\n",
    "\n",
    "y_pred_test = sess.run(ca_model, feed_dict={X: X_test})\n",
    "\n",
    "plt.figure(figsize=(12,4))\n",
    "plt.subplot(1,3,1)\n",
    "plt.imshow(X_test)\n",
    "plt.axis('off')\n",
    "plt.title(\"Input\")\n",
    "\n",
    "\n",
    "plt.subplot(1,3,2)\n",
    "plt.imshow(y_test)\n",
    "plt.axis('off')\n",
    "plt.title(\"Expected Output\")\n",
    "\n",
    "plt.subplot(1,3,3)\n",
    "plt.imshow(y_pred_test)\n",
    "plt.axis('off')\n",
    "plt.title(\"Observed Output\")\n"
   ]
  },
  {
   "cell_type": "code",
   "execution_count": null,
   "metadata": {},
   "outputs": [],
   "source": []
  },
  {
   "cell_type": "code",
   "execution_count": null,
   "metadata": {},
   "outputs": [],
   "source": []
  },
  {
   "cell_type": "code",
   "execution_count": null,
   "metadata": {},
   "outputs": [],
   "source": []
  },
  {
   "cell_type": "code",
   "execution_count": null,
   "metadata": {},
   "outputs": [],
   "source": []
  },
  {
   "cell_type": "code",
   "execution_count": null,
   "metadata": {},
   "outputs": [],
   "source": []
  },
  {
   "cell_type": "code",
   "execution_count": null,
   "metadata": {},
   "outputs": [],
   "source": []
  },
  {
   "cell_type": "code",
   "execution_count": null,
   "metadata": {},
   "outputs": [],
   "source": []
  }
 ],
 "metadata": {
  "language_info": {
   "name": "python",
   "pygments_lexer": "ipython3"
  }
 },
 "nbformat": 4,
 "nbformat_minor": 2
}
